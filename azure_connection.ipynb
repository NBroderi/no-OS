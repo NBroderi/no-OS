{
 "cells": [
  {
   "cell_type": "code",
   "execution_count": null,
   "id": "eda9c10d-82e9-4f29-ab9d-c7e23358957b",
   "metadata": {
    "scrolled": true
   },
   "outputs": [
    {
     "name": "stdout",
     "output_type": "stream",
     "text": [
      "Collecting azure-iot-device\n",
      "  Downloading azure_iot_device-2.14.0-py3-none-any.whl.metadata (15 kB)\n",
      "Requirement already satisfied: urllib3<3.0.0,>=2.2.2 in c:\\users\\smantha\\appdata\\local\\anaconda3\\lib\\site-packages (from azure-iot-device) (2.2.2)\n",
      "Collecting deprecation<3.0.0,>=2.1.0 (from azure-iot-device)\n",
      "  Downloading deprecation-2.1.0-py2.py3-none-any.whl.metadata (4.6 kB)\n",
      "Collecting paho-mqtt<2.0.0,>=1.6.1 (from azure-iot-device)\n",
      "  Downloading paho-mqtt-1.6.1.tar.gz (99 kB)\n",
      "     ---------------------------------------- 0.0/99.4 kB ? eta -:--:--\n",
      "     ------------ --------------------------- 30.7/99.4 kB 1.4 MB/s eta 0:00:01\n",
      "     ---------------------------------------- 99.4/99.4 kB 1.4 MB/s eta 0:00:00\n",
      "  Preparing metadata (setup.py): started\n",
      "  Preparing metadata (setup.py): finished with status 'done'\n",
      "Collecting requests<3.0.0,>=2.32.3 (from azure-iot-device)\n",
      "  Downloading requests-2.32.3-py3-none-any.whl.metadata (4.6 kB)\n",
      "Collecting requests-unixsocket2>=0.4.1 (from azure-iot-device)\n",
      "  Downloading requests_unixsocket2-0.4.2-py3-none-any.whl.metadata (3.9 kB)\n",
      "Collecting janus (from azure-iot-device)\n",
      "  Downloading janus-2.0.0-py3-none-any.whl.metadata (5.3 kB)\n",
      "Requirement already satisfied: PySocks in c:\\users\\smantha\\appdata\\local\\anaconda3\\lib\\site-packages (from azure-iot-device) (1.7.1)\n",
      "Requirement already satisfied: typing-extensions in c:\\users\\smantha\\appdata\\local\\anaconda3\\lib\\site-packages (from azure-iot-device) (4.11.0)\n",
      "Requirement already satisfied: packaging in c:\\users\\smantha\\appdata\\local\\anaconda3\\lib\\site-packages (from deprecation<3.0.0,>=2.1.0->azure-iot-device) (23.2)\n",
      "Requirement already satisfied: charset-normalizer<4,>=2 in c:\\users\\smantha\\appdata\\local\\anaconda3\\lib\\site-packages (from requests<3.0.0,>=2.32.3->azure-iot-device) (2.0.4)\n",
      "Requirement already satisfied: idna<4,>=2.5 in c:\\users\\smantha\\appdata\\local\\anaconda3\\lib\\site-packages (from requests<3.0.0,>=2.32.3->azure-iot-device) (3.7)\n",
      "Requirement already satisfied: certifi>=2017.4.17 in c:\\users\\smantha\\appdata\\local\\anaconda3\\lib\\site-packages (from requests<3.0.0,>=2.32.3->azure-iot-device) (2024.7.4)\n",
      "Downloading azure_iot_device-2.14.0-py3-none-any.whl (168 kB)\n",
      "   ---------------------------------------- 0.0/168.5 kB ? eta -:--:--\n",
      "   -------------------------- ------------- 112.6/168.5 kB 3.3 MB/s eta 0:00:01\n",
      "   ---------------------------------- ----- 143.4/168.5 kB 2.8 MB/s eta 0:00:01\n",
      "   ---------------------------------- ----- 143.4/168.5 kB 2.8 MB/s eta 0:00:01\n",
      "   ---------------------------------------- 168.5/168.5 kB 1.3 MB/s eta 0:00:00\n",
      "Downloading deprecation-2.1.0-py2.py3-none-any.whl (11 kB)\n",
      "Downloading requests-2.32.3-py3-none-any.whl (64 kB)\n",
      "   ---------------------------------------- 0.0/64.9 kB ? eta -:--:--\n",
      "   ---------------------------------------- 64.9/64.9 kB 1.8 MB/s eta 0:00:00\n",
      "Downloading requests_unixsocket2-0.4.2-py3-none-any.whl (7.8 kB)\n",
      "Downloading janus-2.0.0-py3-none-any.whl (12 kB)\n",
      "Building wheels for collected packages: paho-mqtt\n",
      "  Building wheel for paho-mqtt (setup.py): started\n",
      "  Building wheel for paho-mqtt (setup.py): finished with status 'done'\n",
      "  Created wheel for paho-mqtt: filename=paho_mqtt-1.6.1-py3-none-any.whl size=65648 sha256=6e3b41fb5edb8709c55ae06c3c1a40bbcd71b0ee6bf97c5cfab415c0f0289c84\n",
      "  Stored in directory: c:\\users\\smantha\\appdata\\local\\pip\\cache\\wheels\\23\\d5\\af\\1f3cbcc350dec9d8e95040f388e0163d132eff0c9a453db659\n",
      "Successfully built paho-mqtt\n",
      "Installing collected packages: paho-mqtt, requests, janus, deprecation, requests-unixsocket2, azure-iot-device\n",
      "  Attempting uninstall: requests\n",
      "    Found existing installation: requests 2.32.2\n",
      "    Uninstalling requests-2.32.2:\n",
      "      Successfully uninstalled requests-2.32.2\n",
      "Successfully installed azure-iot-device-2.14.0 deprecation-2.1.0 janus-2.0.0 paho-mqtt-1.6.1 requests-2.32.3 requests-unixsocket2-0.4.2\n",
      "Note: you may need to restart the kernel to use updated packages.\n"
     ]
    }
   ],
   "source": [
    "pip install azure-iot-device"
   ]
  },
  {
   "cell_type": "code",
   "execution_count": null,
   "id": "abf50a07",
   "metadata": {},
   "outputs": [],
   "source": []
  },
  {
   "cell_type": "code",
   "execution_count": null,
   "id": "7ea152d1-dd03-45ac-a850-2591fc88ee24",
   "metadata": {},
   "outputs": [
    {
     "ename": "SyntaxError",
     "evalue": "(unicode error) 'unicodeescape' codec can't decode bytes in position 2-3: truncated \\UXXXXXXXX escape (1576239804.py, line 8)",
     "output_type": "error",
     "traceback": [
      "\u001b[1;36m  Cell \u001b[1;32mIn[24], line 8\u001b[1;36m\u001b[0m\n\u001b[1;33m    x509_cert = X509(cert_file=\"C:\\Users\\smantha\\OneDrive - Analog Devices, Inc\\Desktop\\CA_secp256r1\\CA_secp256r1\\cert_CA.pem\", key_file=\"C:\\Users\\smantha\\OneDrive - Analog Devices, Inc\\Desktop\\CA_secp256r1\\CA_secp256r1\\key_CA.pem\")\u001b[0m\n\u001b[1;37m                               ^\u001b[0m\n\u001b[1;31mSyntaxError\u001b[0m\u001b[1;31m:\u001b[0m (unicode error) 'unicodeescape' codec can't decode bytes in position 2-3: truncated \\UXXXXXXXX escape\n"
     ]
    }
   ],
   "source": [
    "from azure.iot.device import IoTHubDeviceClient, X509\n",
    "\n",
    "# Define IoT Hub details\n",
    "HOSTNAME = \"iot-hub-ox5bqwy7lpmfm.azure-devices.net\"\n",
    "DEVICE_ID = \"Test_DataProv\"\n",
    "\n",
    "# Load your certificate and private key\n",
    "#x509_cert = X509(cert_file=\"C:\\Users\\smantha\\OneDrive - Analog Devices, Inc\\Desktop\\CA_secp256r1\\CA_secp256r1\\cert_CA.pem\", key_file=\"C:\\Users\\smantha\\OneDrive - Analog Devices, Inc\\Desktop\\CA_secp256r1\\CA_secp256r1\\key_CA.pem\")\n",
    "x509_cert = X509(cert_file=\"C:\\analog\\cfs\\1.0.1\\SDK\\MAX\\Examples\\MAX32650\\USS_tls_freertos_lwip_adin1110\\pki\\CA_secp256r1\\cert_CA.pem\", key_file=\"C:\\analog\\cfs\\1.0.1\\SDK\\MAX\\Examples\\MAX32650\\USS_tls_freertos_lwip_adin1110\\pki\\CA_secp256r1\\key_CA.pem\")\n",
    "\n",
    "# Create IoT Hub client\n",
    "client = IoTHubDeviceClient.create_from_x509_certificate(\n",
    "    hostname=HOSTNAME,\n",
    "    device_id=DEVICE_ID,\n",
    "    x509=x509_cert\n",
    ")\n",
    "\n",
    "# Connect to IoT Hub\n",
    "try:\n",
    "    client.connect()\n",
    "    print(\"Connected successfully with X.509 certificate!\")\n",
    "except Exception as e:\n",
    "    print(f\"Connection failed: {e}\")\n"
   ]
  }
 ],
 "metadata": {
  "kernelspec": {
   "display_name": "Python 3 (ipykernel)",
   "language": "python",
   "name": "python3"
  },
  "language_info": {
   "codemirror_mode": {
    "name": "ipython",
    "version": 3
   },
   "file_extension": ".py",
   "mimetype": "text/x-python",
   "name": "python",
   "nbconvert_exporter": "python",
   "pygments_lexer": "ipython3",
   "version": "3.12.4"
  }
 },
 "nbformat": 4,
 "nbformat_minor": 5
}
